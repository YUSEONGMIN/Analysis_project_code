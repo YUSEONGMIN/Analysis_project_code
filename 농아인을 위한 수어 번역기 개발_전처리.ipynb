{
 "cells": [
  {
   "cell_type": "markdown",
   "id": "2fb62b0c",
   "metadata": {},
   "source": [
    "## 영상 프레임 추출"
   ]
  },
  {
   "cell_type": "code",
   "execution_count": 1,
   "id": "9801b245",
   "metadata": {},
   "outputs": [],
   "source": [
    "# 필요한 패키지를 불러옵니다.\n",
    "import os\n",
    "import cv2\n",
    "import time"
   ]
  },
  {
   "cell_type": "code",
   "execution_count": 7,
   "id": "0197a238",
   "metadata": {},
   "outputs": [],
   "source": [
    "# 영상이 저장된 폴더 확인\n",
    "target_folder = \"./data/\"\n",
    "file_list = os.listdir(target_folder + 'video')"
   ]
  },
  {
   "cell_type": "code",
   "execution_count": 8,
   "id": "c5ce7ec5",
   "metadata": {},
   "outputs": [
    {
     "data": {
      "text/plain": [
       "['경제_가격경쟁.mp4', '경제_가격수준.mp4']"
      ]
     },
     "execution_count": 8,
     "metadata": {},
     "output_type": "execute_result"
    }
   ],
   "source": [
    "file_list"
   ]
  },
  {
   "cell_type": "code",
   "execution_count": 4,
   "id": "07deff21",
   "metadata": {},
   "outputs": [],
   "source": [
    "def imwrite(filename, img, params=None): # 한글 경로 문제 해결\n",
    "    try:\n",
    "        ext = os.path.splitext(filename)[1]\n",
    "        result, n = cv2.imencode(ext, img, params)\n",
    "\n",
    "        if result:\n",
    "            with open(filename, mode='w+b') as f:\n",
    "                n.tofile(f)\n",
    "            return True\n",
    "        else:\n",
    "            return False\n",
    "    except Exception as e:\n",
    "        print(e)\n",
    "        return False"
   ]
  },
  {
   "cell_type": "code",
   "execution_count": 9,
   "id": "30a37976",
   "metadata": {
    "scrolled": true
   },
   "outputs": [],
   "source": [
    "for i in range(len(file_list)):\n",
    "    # 동영상 파일명과 같은 폴더 생성\n",
    "    new_folder = file_list[i][:-4]  # file_list에 있는 파일 이름은 확장자를 포함\n",
    "    new_path = target_folder + \"img/{0}\".format(new_folder)\n",
    "    if not (os.path.isdir(new_path)):\n",
    "        # 해당 파일명과 동일한 폴더가 없으면 생성\n",
    "        os.mkdir(os.path.join(new_path))\n",
    "\n",
    "    # 동영상 읽어서 원하는 부분 캡쳐(0.3초 간격 / 9 Frame)\n",
    "    file_path = target_folder +'video/'+ file_list[i]\n",
    "    cap = cv2.VideoCapture(file_path)\n",
    "    count = 0\n",
    "    while cap.isOpened():\n",
    "        ret, frame = cap.read()\n",
    "        if ret:\n",
    "            count += 1\n",
    "            if count % 9 == 0:\n",
    "                save_path = new_path + \"/{0:02d}.png\".format(count//9)\n",
    "                imwrite(save_path, frame)\n",
    "            k = cv2.waitKey(33)\n",
    "            if k == 27:\n",
    "                break\n",
    "        else:\n",
    "            break\n",
    "\n",
    "    cap.release()\n",
    "    if (i % 10) == 9 :\n",
    "        time.sleep(5)"
   ]
  },
  {
   "cell_type": "markdown",
   "id": "c3e8704e",
   "metadata": {},
   "source": [
    "## 추출된 이미지 EDA"
   ]
  },
  {
   "cell_type": "code",
   "execution_count": 21,
   "id": "7ffc2065",
   "metadata": {},
   "outputs": [],
   "source": [
    "# 필요한 패키지를 불러옵니다.\n",
    "import os\n",
    "import numpy as np\n",
    "import pandas as pd\n",
    "import seaborn as sns\n",
    "import matplotlib.pyplot as plt"
   ]
  },
  {
   "cell_type": "code",
   "execution_count": 19,
   "id": "4419a43d",
   "metadata": {},
   "outputs": [
    {
     "data": {
      "text/plain": [
       "['경제_가격경쟁', '경제_가격수준']"
      ]
     },
     "execution_count": 19,
     "metadata": {},
     "output_type": "execute_result"
    }
   ],
   "source": [
    "target_folder = \"./data/\"\n",
    "folder_list = os.listdir(target_folder + 'img')\n",
    "folder_list"
   ]
  },
  {
   "cell_type": "raw",
   "id": "b28cde10",
   "metadata": {},
   "source": [
    "이미지 데이터 변수 목록\n",
    "\n",
    "file_name: 이미지 파일 이름\n",
    "seq_len: 이미지 시계열 길이\n",
    "img_row: 이미지 가로 길이\n",
    "img_col: 이미지 세로 길이\n",
    "\n",
    "RGB: 이미지에서 RGB 채널 각각의 최대, 최소, 중앙값, 평균, 표준편차"
   ]
  },
  {
   "cell_type": "code",
   "execution_count": 14,
   "id": "46cc451a",
   "metadata": {},
   "outputs": [],
   "source": [
    "df_EDA = pd.DataFrame(\n",
    "    columns=[\"file_name\", \"seq_len\", \"img_row\", \"img_col\",\n",
    "             \"R_min\", \"R_median\", \"R_max\",\n",
    "             \"G_min\", \"G_median\", \"G_max\",\n",
    "             \"B_min\", \"B_median\", \"B_max\",\n",
    "             \"R_mean\", \"R_std\",\n",
    "             \"G_mean\",\"G_std\",\n",
    "             \"B_mean\", \"B_std\"])"
   ]
  },
  {
   "cell_type": "code",
   "execution_count": 70,
   "id": "ae451710",
   "metadata": {},
   "outputs": [
    {
     "data": {
      "image/png": "[encoded data removed]",
      "text/plain": [
       "<Figure size 640x480 with 1 Axes>"
      ]
     },
     "metadata": {},
     "output_type": "display_data"
    }
   ],
   "source": [
    "for i in range(len(folder_list)):\n",
    "    new_row = [folder_list[i]]\n",
    "    img_path = target_folder + \"img/{0}\".format(folder_list[i])\n",
    "    img_list = os.listdir(img_path)\n",
    "    new_row.append(len(img_list))\n",
    "    test_img = np.asarray(plt.imread(img_path + \"/{0}\".format(img_list[0])))\n",
    "    new_row += [test_img.shape[0], test_img.shape[1]]\n",
    "    r_seq = test_img[:, :, 0].flatten()\n",
    "    g_seq = test_img[:, :, 1].flatten()\n",
    "    b_seq = test_img[:, :, 2].flatten()\n",
    "    if i != len(folder_list):\n",
    "#         plt.figure(figsize=(15, 15))\n",
    "        sns.histplot(r_seq, color='maroon')\n",
    "        sns.histplot(g_seq, color='green')\n",
    "        sns.histplot(b_seq, color='blue').set_title(\"RGB Distribution\")\n",
    "#         plt.savefig(target_folder + \"{0}_RGBdistplot.png\".format(folder_list[i]), dpi = 400)\n",
    "#         plt.close()\n",
    "    color = [np.min(r_seq), np.median(r_seq), np.max(r_seq),\n",
    "             np.min(g_seq), np.median(g_seq), np.max(g_seq),\n",
    "             np.min(b_seq), np.median(b_seq), np.max(b_seq),\n",
    "             np.mean(r_seq), np.std(r_seq), np.mean(g_seq),\n",
    "             np.std(g_seq), np.mean(b_seq), np.std(b_seq)]\n",
    "    # 얻은 정보를 데이터프레임에 추가\n",
    "    df_EDA.loc[i] = new_row + color"
   ]
  },
  {
   "cell_type": "code",
   "execution_count": 23,
   "id": "094be8e1",
   "metadata": {},
   "outputs": [
    {
     "data": {
      "text/html": [
       "<div>\n",
       "<style scoped>\n",
       "    .dataframe tbody tr th:only-of-type {\n",
       "        vertical-align: middle;\n",
       "    }\n",
       "\n",
       "    .dataframe tbody tr th {\n",
       "        vertical-align: top;\n",
       "    }\n",
       "\n",
       "    .dataframe thead th {\n",
       "        text-align: right;\n",
       "    }\n",
       "</style>\n",
       "<table border=\"1\" class=\"dataframe\">\n",
       "  <thead>\n",
       "    <tr style=\"text-align: right;\">\n",
       "      <th></th>\n",
       "      <th>file_name</th>\n",
       "      <th>seq_len</th>\n",
       "      <th>img_row</th>\n",
       "      <th>img_col</th>\n",
       "      <th>R_min</th>\n",
       "      <th>R_median</th>\n",
       "      <th>R_max</th>\n",
       "      <th>G_min</th>\n",
       "      <th>G_median</th>\n",
       "      <th>G_max</th>\n",
       "      <th>B_min</th>\n",
       "      <th>B_median</th>\n",
       "      <th>B_max</th>\n",
       "      <th>R_mean</th>\n",
       "      <th>R_std</th>\n",
       "      <th>G_mean</th>\n",
       "      <th>G_std</th>\n",
       "      <th>B_mean</th>\n",
       "      <th>B_std</th>\n",
       "    </tr>\n",
       "  </thead>\n",
       "  <tbody>\n",
       "    <tr>\n",
       "      <th>0</th>\n",
       "      <td>경제_가격경쟁</td>\n",
       "      <td>14</td>\n",
       "      <td>466</td>\n",
       "      <td>700</td>\n",
       "      <td>0.0</td>\n",
       "      <td>0.109804</td>\n",
       "      <td>1.0</td>\n",
       "      <td>0.0</td>\n",
       "      <td>0.419608</td>\n",
       "      <td>0.933333</td>\n",
       "      <td>0.0</td>\n",
       "      <td>1.0</td>\n",
       "      <td>1.0</td>\n",
       "      <td>0.12020</td>\n",
       "      <td>0.124542</td>\n",
       "      <td>0.369548</td>\n",
       "      <td>0.143627</td>\n",
       "      <td>0.859229</td>\n",
       "      <td>0.312808</td>\n",
       "    </tr>\n",
       "    <tr>\n",
       "      <th>1</th>\n",
       "      <td>경제_가격수준</td>\n",
       "      <td>17</td>\n",
       "      <td>466</td>\n",
       "      <td>700</td>\n",
       "      <td>0.0</td>\n",
       "      <td>0.109804</td>\n",
       "      <td>1.0</td>\n",
       "      <td>0.0</td>\n",
       "      <td>0.419608</td>\n",
       "      <td>0.964706</td>\n",
       "      <td>0.0</td>\n",
       "      <td>1.0</td>\n",
       "      <td>1.0</td>\n",
       "      <td>0.11842</td>\n",
       "      <td>0.123155</td>\n",
       "      <td>0.368289</td>\n",
       "      <td>0.145745</td>\n",
       "      <td>0.856800</td>\n",
       "      <td>0.316278</td>\n",
       "    </tr>\n",
       "  </tbody>\n",
       "</table>\n",
       "</div>"
      ],
      "text/plain": [
       "  file_name  seq_len  img_row  img_col  R_min  R_median  R_max  G_min  \\\n",
       "0   경제_가격경쟁       14      466      700    0.0  0.109804    1.0    0.0   \n",
       "1   경제_가격수준       17      466      700    0.0  0.109804    1.0    0.0   \n",
       "\n",
       "   G_median     G_max  B_min  B_median  B_max   R_mean     R_std    G_mean  \\\n",
       "0  0.419608  0.933333    0.0       1.0    1.0  0.12020  0.124542  0.369548   \n",
       "1  0.419608  0.964706    0.0       1.0    1.0  0.11842  0.123155  0.368289   \n",
       "\n",
       "      G_std    B_mean     B_std  \n",
       "0  0.143627  0.859229  0.312808  \n",
       "1  0.145745  0.856800  0.316278  "
      ]
     },
     "execution_count": 23,
     "metadata": {},
     "output_type": "execute_result"
    }
   ],
   "source": [
    "df_EDA\n",
    "# seq_len이 다름 -> 통일"
   ]
  },
  {
   "cell_type": "raw",
   "id": "44b31dc3",
   "metadata": {},
   "source": [
    "dataset_annotation = pd.read_excel(\"수어_데이터셋_어노테이션.xlsx\")\n",
    "dataset_annotation[\"file_name\"] = dataset_annotation[\"파일명\"].str[:-4]\n",
    "dataset_annotation = dataset_annotation[[\"file_name\", \"한국어\"]]\n",
    "# 데이터셋 어노테이션 파일에서 해당 이미지 시계열이 나타내는 한국어를 가져옴\n",
    "df_EDA = pd.merge(df_EDA, dataset_annotation, how=\"outer\", on=\"file_name\")\n",
    "df_EDA.to_excel(\"EDA.xlsx\", header=True, index=False)"
   ]
  },
  {
   "cell_type": "markdown",
   "id": "06f73a8b",
   "metadata": {},
   "source": [
    "## 이미지 전처리"
   ]
  },
  {
   "cell_type": "code",
   "execution_count": 20,
   "id": "40078c81",
   "metadata": {},
   "outputs": [],
   "source": [
    "# 필요한 패키지를 불러옵니다.\n",
    "import os\n",
    "import numpy as np\n",
    "import pandas as pd"
   ]
  },
  {
   "cell_type": "code",
   "execution_count": 21,
   "id": "1fac5f6d",
   "metadata": {},
   "outputs": [],
   "source": [
    "def zero_padding_4d(img_seq, max_len):\n",
    "    \"\"\"\n",
    "    이미지 시퀸스들 앞에 0으로 된 이미지들 padding\n",
    "    텐서플로 모델에 넣기 위해서는 이미지 시퀸스의 길이를 모두 맞춰야 하므로\n",
    "    :param max_len: 이미지 시퀸스의 최종 길이\n",
    "    \"\"\"\n",
    "    img_seq = img_seq.copy()\n",
    "    # 각 이미지 한 장의 크기\n",
    "    img_shape = img_seq.shape[1:]\n",
    "    # zero-padding으로 만들어야하는 이미지 개수\n",
    "    img_augment_len = max_len - img_seq.shape[0]\n",
    "    assert img_augment_len >=0, \"max_len should longer than image sequence\"\n",
    "    if img_augment_len == 0:\n",
    "        # 이미지를 늘릴 필요가 없으면 그대로 반환\n",
    "        return img_seq\n",
    "    # 해당하는 이미지의 크기를 가진 0 배열 생성\n",
    "    img_zero = np.zeros((img_augment_len, *img_shape))\n",
    "    img_seq = np.concatenate([img_zero, img_seq], axis = 0)\n",
    "    return img_seq"
   ]
  },
  {
   "cell_type": "code",
   "execution_count": 22,
   "id": "623fc9fc",
   "metadata": {},
   "outputs": [],
   "source": [
    "def read_ai (xlen = 1280, ylen = 720):\n",
    "    \"\"\"\n",
    "    :param xlen, ylen: 이미지를 원하는 크기로 읽어들이는 것\n",
    "    :returns input, output data(리스트 타입) / max_len 이미지 시퀸스의 길이\n",
    "    \"\"\"\n",
    "    # 각 이미지 시퀸스는 폴더에 저장되어 있음. 각 폴더가 하나의 데이터\n",
    "    target_folder = \"video/\"\n",
    "    folder_list = os.listdir(target_folder)\n",
    "\n",
    "    dataset_annotation = pd.read_excel(\"수어_데이터셋_어노테이션.xlsx\")\n",
    "    dataset_annotation.loc[(dataset_annotation[\"한국어\"].map(type) == int), \"타입(단어/문장)\"] = \"숫자\"\n",
    "    dataset_annotation[\"folder_name\"] = dataset_annotation[\"파일명\"].str[:-4]\n",
    "\n",
    "    input_data = []\n",
    "    output_data = []\n",
    "    # 추후에 zero-padding을 위해 이미지 시퀸스의 가장 긴 길이를 체크 해야함\n",
    "    img_max_len = 0\n",
    "    # for i in range(500):\n",
    "    for i in range(len(folder_list)):\n",
    "        img_path = target_folder + \"//{0}\".format(folder_list[i])\n",
    "        # 각 폴더에는 해당하는 이미지들이 저장되어 있기 때문에, 폴더에 접근해서 이미지들을 순차적으로 읽어들임\n",
    "        img_list = os.listdir(img_path)\n",
    "        img_list.sort()\n",
    "        # 메모리 문제 때문에 해당 수어가 문장 또는 숫자인 경우 제외\n",
    "        if dataset_annotation[dataset_annotation[\"folder_name\"] == folder_list[i]].iloc[0][\"타입(단어/문장)\"] == \"문장\":\n",
    "            continue\n",
    "        elif dataset_annotation[dataset_annotation[\"folder_name\"] == folder_list[i]].iloc[0][\"타입(단어/문장)\"] == \"숫자\":\n",
    "            continue\n",
    "\n",
    "        if len(img_list) > img_max_len:\n",
    "            # 이미지 시퀸스의 최대 길이를 갱신\n",
    "            img_max_len = len(img_list)\n",
    "        # 폴더 안에 있는 이미지들을 읽어서 리스트에 저장\n",
    "        img_seq = []\n",
    "        for j in range(len(img_list)):\n",
    "            image = Image.open(img_path + \"//{0}\".format(img_list[j]))\n",
    "            image = np.asarray(image, dtype=np.float32)\n",
    "            # 이미지를 함수 호출자가 원하는 크기로 변경\n",
    "            image = cv2.resize(image, dsize=(xlen, ylen))\n",
    "            # 이미지 시퀸스를 만들기 위해 3차원 배열을 4차원 배열로 변환\n",
    "            image = image.reshape(-1, *image.shape)\n",
    "            img_seq.append(image)\n",
    "        # img_seq 안에 있는 이미지를 모두 concatenate해서 하나의 4차원 배열로 만듦\n",
    "        img_seq = np.concatenate(img_seq)\n",
    "        input_data.append(img_seq)\n",
    "        # print(\"Read {0} Complete\".format(i))\n",
    "        label = dataset_annotation[dataset_annotation[\"folder_name\"] == folder_list[i]].loc[:, \"한국어\"].values[0]\n",
    "        if type(label) == int:\n",
    "            label = str(label)\n",
    "        # 이미지 시퀸스에 해당하는 한국어 추가\n",
    "        output_data.append(label)\n",
    "\n",
    "    for i in range(len(input_data)):\n",
    "        # input_data를 zero-padding해서 모두 같은 길이로 만들어준다.\n",
    "        input_data[i] = zero_padding_4d(input_data[i], img_max_len)\n",
    "\n",
    "    return input_data, output_data, img_max_len"
   ]
  },
  {
   "cell_type": "code",
   "execution_count": null,
   "id": "18631f6c",
   "metadata": {},
   "outputs": [],
   "source": [
    "def train_test_split(data_X, data_y, category, num=5):\n",
    "    \"\"\"\n",
    "    # 한국어를 균일하게 분배하기 위한 train_test_split 함수\n",
    "    :param data_X, data_y:\n",
    "    :param category: 총 카테고리 숫자\n",
    "    :param num: test set으로 분리할 양\n",
    "    :return:\n",
    "    \"\"\"\n",
    "    test_idx = []\n",
    "    for i in range(category):\n",
    "        # 각 한국어에 해당하는 수어 영상 인덱스 추출\n",
    "        cat_idx = np.where(data_y == i)[0]\n",
    "        # 전체 인덱스에서 원하는 만큼의 인덱스 추출\n",
    "        cat_test = np.random.choice(cat_idx, size=num, replace=False)\n",
    "        test_idx.append(cat_test)\n",
    "    test_idx = np.concatenate(test_idx)\n",
    "    # 선택된 인덱스는 테스트 데이터로 / 나머지는 훈련 데이터로 사용\n",
    "    data_y_test = data_y[test_idx]; print(np.unique(data_y_test).shape[0])\n",
    "    data_y_train = np.delete(data_y, test_idx); print(np.unique(data_y_train).shape[0])\n",
    "    data_X_test = data_X[test_idx, ...]; print(data_X_test.shape)\n",
    "    data_X_train = np.delete(data_X, test_idx, axis=0); print(data_X_train.shape)\n",
    "    return data_X_train, data_y_train, data_X_test, data_y_test"
   ]
  },
  {
   "cell_type": "markdown",
   "id": "b1a6636e",
   "metadata": {},
   "source": [
    "## 모델링"
   ]
  },
  {
   "cell_type": "code",
   "execution_count": null,
   "id": "7f6a00b5",
   "metadata": {},
   "outputs": [],
   "source": []
  }
 ],
 "metadata": {
  "kernelspec": {
   "display_name": "Python 3 (ipykernel)",
   "language": "python",
   "name": "python3"
  },
  "language_info": {
   "codemirror_mode": {
    "name": "ipython",
    "version": 3
   },
   "file_extension": ".py",
   "mimetype": "text/x-python",
   "name": "python",
   "nbconvert_exporter": "python",
   "pygments_lexer": "ipython3",
   "version": "3.11.4"
  }
 },
 "nbformat": 4,
 "nbformat_minor": 5
}
