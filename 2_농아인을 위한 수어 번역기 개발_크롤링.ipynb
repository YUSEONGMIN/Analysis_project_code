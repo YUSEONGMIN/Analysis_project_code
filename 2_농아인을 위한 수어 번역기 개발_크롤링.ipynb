{
 "cells": [
  {
   "cell_type": "markdown",
   "id": "6447db45",
   "metadata": {},
   "source": [
    "## 농아인 협회/센터 위치 수집"
   ]
  },
  {
   "cell_type": "code",
   "execution_count": 1,
   "id": "2f239aed",
   "metadata": {
    "scrolled": true
   },
   "outputs": [],
   "source": [
    "# 필요한 패키지를 불러옵니다.\n",
    "import time\n",
    "import json\n",
    "import sqlite3\n",
    "import requests\n",
    "import pandas as pd\n",
    "from bs4 import BeautifulSoup"
   ]
  },
  {
   "cell_type": "code",
   "execution_count": 2,
   "id": "cb292a56",
   "metadata": {
    "scrolled": true
   },
   "outputs": [],
   "source": [
    "url = 'https://map.naver.com/v5/api/search'"
   ]
  },
  {
   "cell_type": "code",
   "execution_count": 3,
   "id": "edebd852",
   "metadata": {
    "scrolled": true
   },
   "outputs": [],
   "source": [
    "params = {\n",
    "    'caller': 'pcweb',\n",
    "    'query': '농아인', # 농아인 검색\n",
    "    'type': 'place',\n",
    "    'searchCoord': '127.0406198501587;37.51741907323963',\n",
    "    'page': '1',\n",
    "    'displayCount': '20',\n",
    "    'isPlaceRecommendationReplace': 'true',\n",
    "    'lang': 'ko'\n",
    "}"
   ]
  },
  {
   "cell_type": "code",
   "execution_count": 4,
   "id": "ffd1e6de",
   "metadata": {
    "scrolled": true
   },
   "outputs": [],
   "source": [
    "params['page'] = 1\n",
    "resp = requests.get(url, params=params)\n",
    "dom = BeautifulSoup(resp.text, 'html.parser')\n",
    "json_obj = json.loads(resp.text)"
   ]
  },
  {
   "cell_type": "code",
   "execution_count": null,
   "id": "2c37696f",
   "metadata": {},
   "outputs": [],
   "source": [
    "json_obj # 기관명, 분류, x좌표, y좌표, 주소가 필요"
   ]
  },
  {
   "cell_type": "code",
   "execution_count": 6,
   "id": "899644f9",
   "metadata": {
    "scrolled": true
   },
   "outputs": [],
   "source": [
    "k = 1\n",
    "second=[]\n",
    "while True:\n",
    "    params['page'] = k\n",
    "    time.sleep(1)\n",
    "    resp = requests.get(url, params=params)\n",
    "    json_obj = json.loads(resp.text)\n",
    "\n",
    "    for i in json_obj['result']['place']['list']:\n",
    "        first=[]\n",
    "        first.append(i['name'])\n",
    "        first.append(i['category'])\n",
    "        first.append(i['x'])\n",
    "        first.append(i['y'])\n",
    "        first.append(i['address'])\n",
    "\n",
    "        second.append(first)\n",
    "\n",
    "    k += 1\n",
    "    \n",
    "    if len(json_obj['result']['place']['list']) == 0:\n",
    "        break"
   ]
  },
  {
   "cell_type": "code",
   "execution_count": null,
   "id": "62f26569",
   "metadata": {},
   "outputs": [],
   "source": [
    "df_1 = pd.DataFrame(second) # name, category, x, y, address가 변수로\n",
    "category = df_1[1].values # 1번째 변수 = category\n",
    "category = category.tolist()\n",
    "category # 각 리스트마다 하나씩"
   ]
  },
  {
   "cell_type": "code",
   "execution_count": null,
   "id": "b8023020",
   "metadata": {},
   "outputs": [],
   "source": [
    "for i in range(len(category)):\n",
    "    element = category[i]\n",
    "    ctg = \"\"\n",
    "    for j in range(len(element)):\n",
    "        ctg += element[j]\n",
    "        if j != (len(element) - 1):\n",
    "            ctg +=\",\"\n",
    "    category[i] = ctg\n",
    "category"
   ]
  },
  {
   "cell_type": "code",
   "execution_count": 9,
   "id": "4a24712e",
   "metadata": {
    "scrolled": true
   },
   "outputs": [],
   "source": [
    "df_1[\"Category\"] = category"
   ]
  },
  {
   "cell_type": "code",
   "execution_count": 10,
   "id": "54938dc1",
   "metadata": {
    "scrolled": true
   },
   "outputs": [],
   "source": [
    "del df_1[1]"
   ]
  },
  {
   "cell_type": "code",
   "execution_count": 11,
   "id": "f61d3c2b",
   "metadata": {
    "scrolled": true
   },
   "outputs": [],
   "source": [
    "df_1.columns = [\"Name\", \"Longitude\", \"Latitude\", \"Address\", \"Category\"]\n",
    "order = [\"Name\", \"Category\", \"Longitude\", \"Latitude\", \"Address\"]\n",
    "df_1 = df_1[order]"
   ]
  },
  {
   "cell_type": "code",
   "execution_count": 12,
   "id": "c510b456",
   "metadata": {
    "scrolled": true
   },
   "outputs": [],
   "source": [
    "conn = sqlite3.connect('naver_map.db')\n",
    "cur = conn.cursor()"
   ]
  },
  {
   "cell_type": "code",
   "execution_count": 13,
   "id": "4186ddf9",
   "metadata": {
    "scrolled": true
   },
   "outputs": [
    {
     "data": {
      "text/plain": [
       "<sqlite3.Cursor at 0x238e36abf40>"
      ]
     },
     "execution_count": 13,
     "metadata": {},
     "output_type": "execute_result"
    }
   ],
   "source": [
    "cur.executescript(''' \n",
    "    DROP TABLE IF EXISTS naver_map;\n",
    "''')"
   ]
  },
  {
   "cell_type": "code",
   "execution_count": 14,
   "id": "4ec6ac0b",
   "metadata": {
    "scrolled": true
   },
   "outputs": [],
   "source": [
    "conn.commit()\n",
    "cur = conn.cursor()"
   ]
  },
  {
   "cell_type": "code",
   "execution_count": 15,
   "id": "0c967928",
   "metadata": {
    "scrolled": true
   },
   "outputs": [],
   "source": [
    "df_1.to_sql('naver_map', conn)\n",
    "cur.close()"
   ]
  },
  {
   "cell_type": "markdown",
   "id": "41ead7de",
   "metadata": {},
   "source": [
    "## 협회/센터 위치 지도로 표시하기"
   ]
  },
  {
   "cell_type": "code",
   "execution_count": null,
   "id": "67699bf3",
   "metadata": {
    "scrolled": true
   },
   "outputs": [],
   "source": [
    "# 필요한 패키지를 불러옵니다.\n",
    "import folium\n",
    "import sqlite3\n",
    "import pandas as pd\n",
    "from flask import Flask\n",
    "from folium import Marker\n",
    "from folium.plugins import MarkerCluster"
   ]
  },
  {
   "cell_type": "code",
   "execution_count": null,
   "id": "a19add95",
   "metadata": {
    "scrolled": true
   },
   "outputs": [],
   "source": [
    "# 저장된 DB를 불러옵니다.\n",
    "conn = sqlite3.connect('naver_map.db')\n",
    "df_1 = pd.read_sql(\"SELECT * FROM naver_map\", conn)\n",
    "conn.close()"
   ]
  },
  {
   "cell_type": "code",
   "execution_count": null,
   "id": "f9d17f81",
   "metadata": {
    "scrolled": true
   },
   "outputs": [],
   "source": [
    "df_1"
   ]
  },
  {
   "cell_type": "code",
   "execution_count": null,
   "id": "eea6849e",
   "metadata": {
    "scrolled": true
   },
   "outputs": [],
   "source": [
    "app = Flask(__name__)\n",
    "\n",
    "@app.route('/')\n",
    "def fomap():\n",
    "    m = folium.Map(location=[37.55, 127])\n",
    "    mc = MarkerCluster()\n",
    "\n",
    "    for i in range(len(df_1)):\n",
    "        mc.add_child(\n",
    "            Marker(location=[df_1.loc[i]['Latitude'],df_1.loc[i]['Longitude']],\n",
    "                  popup=df_1.loc[i]['Name']))\n",
    "\n",
    "    m.add_child(mc)\n",
    "    return m.get_root().render()\n",
    "\n",
    "if __name__ == '__main__':\n",
    "    app.run()"
   ]
  },
  {
   "cell_type": "markdown",
   "id": "37f52746",
   "metadata": {},
   "source": [
    "# 국립국어원 수어사전 수집"
   ]
  },
  {
   "cell_type": "code",
   "execution_count": 16,
   "id": "1fee3216",
   "metadata": {
    "scrolled": true
   },
   "outputs": [],
   "source": [
    "# 필요한 패키지를 불러옵니다.\n",
    "import re\n",
    "import requests\n",
    "from bs4 import BeautifulSoup\n",
    "from requests.packages.urllib3.exceptions import InsecureRequestWarning\n",
    "requests.packages.urllib3.disable_warnings(InsecureRequestWarning)"
   ]
  },
  {
   "cell_type": "code",
   "execution_count": 17,
   "id": "5bbcf9f4",
   "metadata": {
    "scrolled": true
   },
   "outputs": [],
   "source": [
    "url = 'http://sldict.korean.go.kr/front/sign/signList.do'"
   ]
  },
  {
   "cell_type": "code",
   "execution_count": 18,
   "id": "fbbe6444",
   "metadata": {
    "scrolled": true
   },
   "outputs": [],
   "source": [
    "params = {\n",
    "    'current_pos_index': '',\n",
    "    'origin_no': '0',\n",
    "    'searchWay': '',\n",
    "    'top_category': '',\n",
    "    'category': 'SPE001', # SPE001: 법률 용어, SPE002: 교통, ...\n",
    "    'detailCategory': '',\n",
    "    'searchKeyword': '',\n",
    "    'pageIndex': '1'\n",
    "}"
   ]
  },
  {
   "cell_type": "code",
   "execution_count": null,
   "id": "eb7b8734",
   "metadata": {},
   "outputs": [],
   "source": [
    "params['pageIndex'] = 1\n",
    "params['category'] = 'SPE001'\n",
    "resp = requests.get(url, params=params,verify=False)\n",
    "dom = BeautifulSoup(resp.text, 'html.parser')\n",
    "dom.prettify"
   ]
  },
  {
   "cell_type": "code",
   "execution_count": 20,
   "id": "cf318a78",
   "metadata": {
    "scrolled": true
   },
   "outputs": [
    {
     "data": {
      "text/plain": [
       "'법률'"
      ]
     },
     "execution_count": 20,
     "metadata": {},
     "output_type": "execute_result"
    }
   ],
   "source": [
    "# 단어 카테고리 추출\n",
    "dom.select('#menu > div > div > ul > li.on > ul > li > a > span')[0].text"
   ]
  },
  {
   "cell_type": "code",
   "execution_count": 21,
   "id": "c054e26e",
   "metadata": {
    "scrolled": true
   },
   "outputs": [
    {
     "data": {
      "text/plain": [
       "'취소권'"
      ]
     },
     "execution_count": 21,
     "metadata": {},
     "output_type": "execute_result"
    }
   ],
   "source": [
    "# 단어 제목 추출\n",
    "title = dom.select('#list > li > div > p > span.tit > a')[0].text\n",
    "re.sub('[^가-힣]','',title)"
   ]
  },
  {
   "cell_type": "code",
   "execution_count": 22,
   "id": "2c7d67e6",
   "metadata": {
    "scrolled": true
   },
   "outputs": [
    {
     "data": {
      "text/plain": [
       "'[명사]의사 표시 및 법률 행위를 취소할 수 있는 권리.'"
      ]
     },
     "execution_count": 22,
     "metadata": {},
     "output_type": "execute_result"
    }
   ],
   "source": [
    "# 단어 뜻 추출\n",
    "mean = dom.select('#list > li > div > p > span.info > a > cite > span')[0].text\n",
    "re.sub('[\\r\\n\\t]','',mean)"
   ]
  },
  {
   "cell_type": "code",
   "execution_count": 23,
   "id": "0de02196",
   "metadata": {
    "scrolled": true
   },
   "outputs": [
    {
     "data": {
      "text/plain": [
       "'MOV000266437_700X466.mp4'"
      ]
     },
     "execution_count": 23,
     "metadata": {},
     "output_type": "execute_result"
    }
   ],
   "source": [
    "# 단어 영상 추출\n",
    "s = dom.select('#signListForm > div.result_list.mt_30 > div.wrap_list > ul > li > div.list_left > div > a > img')[1].get('src')\n",
    "re.findall('MOV.+',s)[0].replace('215X161.jpg', '700X466.mp4')\n",
    "\n",
    "# s = s.replace('215X161.jpg', '700X466.mp4')\n",
    "# re.findall('MOV.+',s)[0]"
   ]
  },
  {
   "cell_type": "code",
   "execution_count": 24,
   "id": "9677edbc",
   "metadata": {
    "scrolled": true
   },
   "outputs": [],
   "source": [
    "# 크롤링 시작\n",
    "url = 'http://sldict.korean.go.kr/front/sign/signList.do'"
   ]
  },
  {
   "cell_type": "code",
   "execution_count": 25,
   "id": "9fb4baab",
   "metadata": {
    "scrolled": true
   },
   "outputs": [],
   "source": [
    "params = {\n",
    "    'current_pos_index': '',\n",
    "    'origin_no': '0',\n",
    "    'searchWay': '',\n",
    "    'top_category': '',\n",
    "    'category': 'SPE001',\n",
    "    'detailCategory': '',\n",
    "    'searchKeyword': '',\n",
    "    'pageIndex': '1'\n",
    "}"
   ]
  },
  {
   "cell_type": "code",
   "execution_count": 26,
   "id": "c37815c4",
   "metadata": {
    "scrolled": true
   },
   "outputs": [
    {
     "name": "stdout",
     "output_type": "stream",
     "text": [
      "카테고리 끝\n"
     ]
    }
   ],
   "source": [
    "category_num = 1\n",
    "pageIndex_num = 1\n",
    "\n",
    "category = '#menu > div > div > ul > li.on > ul > li > a > span'\n",
    "title = '#list > li > div > p > span.tit > a'\n",
    "mean = '#list > li > div > p > span.info > a > cite > span'\n",
    "video = '#signListForm > div.result_list.mt_30 > div.wrap_list > ul > li > div.list_left > div > a > img'\n",
    "\n",
    "while True:\n",
    "    try:\n",
    "        params['category'] = 'SPE'+str(category_num).zfill(3)\n",
    "        while True:\n",
    "            params['pageIndex'] = pageIndex_num\n",
    "            resp = requests.get(url, params=params,verify=False)\n",
    "            dom = BeautifulSoup(resp.text, 'html.parser')            \n",
    "            for i in range(len(dom.select(title))):\n",
    "                s = dom.select(video)[2*i+1].get('src')\n",
    "                if len(re.findall('MOV.+',s.replace('215X161.jpg', '700X466.mp4'))) == 0:\n",
    "                    continue\n",
    "                f = open('add_category.txt','a')  \n",
    "                f.write('\\n'+dom.select(category)[category_num-1].text+\n",
    "                        '\\t'+dom.select(video)[2*i+1].get('src').replace('215X161.jpg', '700X466.mp4')+\n",
    "                        '\\t'+re.sub('[^가-힣]','',dom.select(title)[i].text)+\n",
    "                        '\\t'+re.sub('[\\r\\n\\t]','',dom.select(mean)[i].text)+\n",
    "                        '\\t'+re.findall('MOV.+',s.replace('215X161.jpg', '700X466.mp4'))[0])\n",
    "            if len(dom.select(title)) == 0:\n",
    "                print('페이지 끝 \\n')\n",
    "                break\n",
    "            pageIndex_num += 1\n",
    "        category_num += 1\n",
    "        pageIndex_num = 1\n",
    "    except:\n",
    "        print('카테고리 끝')\n",
    "        f.close()\n",
    "        break"
   ]
  },
  {
   "cell_type": "code",
   "execution_count": null,
   "id": "1bbdf210",
   "metadata": {
    "scrolled": true
   },
   "outputs": [],
   "source": [
    "from selenium import webdriver\n",
    "from selenium.webdriver.common.by import By"
   ]
  },
  {
   "cell_type": "code",
   "execution_count": null,
   "id": "478968ec",
   "metadata": {
    "scrolled": true
   },
   "outputs": [],
   "source": [
    "driver = webdriver.Chrome()"
   ]
  },
  {
   "cell_type": "code",
   "execution_count": null,
   "id": "5a8ae64a",
   "metadata": {
    "scrolled": true
   },
   "outputs": [],
   "source": [
    "url = 'http://sldict.korean.go.kr/front/sign/signList.do?'\n",
    "driver.get(url)"
   ]
  },
  {
   "cell_type": "code",
   "execution_count": null,
   "id": "0701709a",
   "metadata": {
    "scrolled": true
   },
   "outputs": [],
   "source": [
    "i = 1\n",
    "j = 0\n",
    "category_list = ['CTE','SPE'] # CTE: 사회생활, SPE: 전문용어\n",
    "category = category_list[j]\n",
    "down_list = []\n",
    "title_list = []"
   ]
  },
  {
   "cell_type": "code",
   "execution_count": null,
   "id": "337bccf0",
   "metadata": {
    "scrolled": true
   },
   "outputs": [],
   "source": [
    "while True:\n",
    "    page = str(i)\n",
    "#     print(\"i\",page) # 페이지 확인\n",
    "    url = 'http://sldict.korean.go.kr/front/sign/signList.do?top_category='+category+'&pageIndex='+page\n",
    "    driver.get(url)\n",
    "    time.sleep(1)\n",
    "    num_content = driver.find_elements(By.XPATH,'//*[@id=\"list\"]/li/div/p[1]/span[1]/a')\n",
    "#     print(len(num_content)) # 페이지 내 갯수 확인\n",
    "    \n",
    "    if len(num_content) == 0:\n",
    "        j += 1\n",
    "        if j == 2:\n",
    "            break\n",
    "        category = category_list[j]\n",
    "        i = 1\n",
    "        continue\n",
    "    \n",
    "    for k in range(len(num_content)):\n",
    "        driver.find_elements(By.XPATH,'//*[@id=\"list\"]/li/div/p[1]/span[1]/a')[k].click()\n",
    "        time.sleep(1)\n",
    "        # 들어간 후 제목과 영상 추출\n",
    "        down_url = driver.find_element(By.XPATH,'//*[@id=\"html5Video\"]/source[2]').get_attribute('src')\n",
    "        title = driver.find_element(By.XPATH,'//*[@id=\"signViewForm\"]/dl/dd[1]').text\n",
    "        title = re.sub('[^가-힣]','',title)\n",
    "        print(down_url, title)\n",
    "        down_list.append(down_url)\n",
    "        title_list.append(title)\n",
    "        driver.back()\n",
    "        time.sleep(1)\n",
    "            \n",
    "    i += 1"
   ]
  },
  {
   "cell_type": "markdown",
   "id": "8dfe48ae",
   "metadata": {},
   "source": [
    "## 한국 농아인협회 공지사항 수집"
   ]
  },
  {
   "cell_type": "code",
   "execution_count": 27,
   "id": "20a60a25",
   "metadata": {
    "scrolled": true
   },
   "outputs": [],
   "source": [
    "# 필요한 패키지를 불러옵니다.\n",
    "import re\n",
    "import sqlite3\n",
    "import requests\n",
    "import pandas as pd\n",
    "from bs4 import BeautifulSoup"
   ]
  },
  {
   "cell_type": "code",
   "execution_count": 28,
   "id": "34a5be17",
   "metadata": {
    "scrolled": true
   },
   "outputs": [],
   "source": [
    "url = 'http://www.deafkorea.com/sub_customer/notice.php'"
   ]
  },
  {
   "cell_type": "code",
   "execution_count": 29,
   "id": "eb9490ba",
   "metadata": {
    "scrolled": true
   },
   "outputs": [],
   "source": [
    "params = {\n",
    "    'b_name': 'notice',\n",
    "    'code': '',\n",
    "    'keyfield': '',\n",
    "    'key': '',\n",
    "    'page': ''\n",
    "}"
   ]
  },
  {
   "cell_type": "code",
   "execution_count": null,
   "id": "6083b130",
   "metadata": {},
   "outputs": [],
   "source": [
    "params['page'] = 2\n",
    "resp = requests.get(url, params=params)\n",
    "resp.encoding = 'utf8'\n",
    "dom = BeautifulSoup(resp.content, 'html.parser')\n",
    "dom"
   ]
  },
  {
   "cell_type": "code",
   "execution_count": 31,
   "id": "690b9d07",
   "metadata": {
    "scrolled": true
   },
   "outputs": [
    {
     "data": {
      "text/plain": [
       "[<td class=\"w_date\">2023.07.24</td>,\n",
       " <td class=\"w_date\">2023.07.15</td>,\n",
       " <td class=\"w_date\">2023.07.14</td>,\n",
       " <td class=\"w_date\">2023.07.11</td>,\n",
       " <td class=\"w_date\">2023.07.11</td>,\n",
       " <td class=\"w_date\">2023.07.10</td>,\n",
       " <td class=\"w_date\">2023.07.05</td>,\n",
       " <td class=\"w_date\">2023.06.30</td>,\n",
       " <td class=\"w_date\">2023.06.20</td>,\n",
       " <td class=\"w_date\">2023.06.16</td>]"
      ]
     },
     "execution_count": 31,
     "metadata": {},
     "output_type": "execute_result"
    }
   ],
   "source": [
    "# 공지사항 날짜\n",
    "dom.select('table:not(.notice) td.w_date')"
   ]
  },
  {
   "cell_type": "code",
   "execution_count": null,
   "id": "8462e27d",
   "metadata": {},
   "outputs": [],
   "source": [
    "# 공지사항 제목과 주소\n",
    "dom.select('table:not(.notice) a')"
   ]
  },
  {
   "cell_type": "code",
   "execution_count": null,
   "id": "441dc5b7",
   "metadata": {},
   "outputs": [],
   "source": [
    "page_num = 1\n",
    "c = []\n",
    "\n",
    "while True:\n",
    "    params['page'] = page_num\n",
    "    resp = requests.get(url, params=params)\n",
    "    resp.encoding = 'utf8'\n",
    "    dom = BeautifulSoup(resp.content, 'html.parser')\n",
    "    for a, b in zip(dom.select('table:not(.notice) a'), dom.select('table:not(.notice) td.w_date')):\n",
    "        print('title:',a.text,'\\ndate:',b.text,'\\n',url+a['href'],'\\n')\n",
    "        c.extend([re.sub('[\\r\\n]','',a.text), b.text, url+a['href']])\n",
    "    page_num += 1\n",
    "    if page_num == 3:\n",
    "        break"
   ]
  },
  {
   "cell_type": "code",
   "execution_count": 34,
   "id": "362b77f4",
   "metadata": {
    "scrolled": true
   },
   "outputs": [],
   "source": [
    "# 제목, 날짜, 주소 3개의 열을 가진 데이터프레임 만들기\n",
    "n = 3\n",
    "df_1 = [c[i*n : (i+1)*n] for i in range((len(c) + n - 1) // n )] \n",
    "df = pd.DataFrame.from_records(df_1,columns=('title','date','url'))"
   ]
  },
  {
   "cell_type": "code",
   "execution_count": 35,
   "id": "ffbabb32",
   "metadata": {
    "scrolled": true
   },
   "outputs": [],
   "source": [
    "conn = sqlite3.connect('sonmin.db')\n",
    "cur = conn.cursor()"
   ]
  },
  {
   "cell_type": "code",
   "execution_count": 36,
   "id": "5c65840a",
   "metadata": {
    "scrolled": true
   },
   "outputs": [
    {
     "data": {
      "text/plain": [
       "<sqlite3.Cursor at 0x238e47d49c0>"
      ]
     },
     "execution_count": 36,
     "metadata": {},
     "output_type": "execute_result"
    }
   ],
   "source": [
    "cur.executescript(''' \n",
    "    DROP TABLE IF EXISTS sonmin;\n",
    "    CREATE TABLE sonmin(\n",
    "    id INTEGER PRIMARY KEY AUTOINCREMENT NOT NULL,\n",
    "    title TEXT  NOT NULL,\n",
    "    date  TEXT   NOT NULL,\n",
    "    url TEXT NOT NULL\n",
    "    );\n",
    "''')"
   ]
  },
  {
   "cell_type": "code",
   "execution_count": 37,
   "id": "d57f2aa5",
   "metadata": {
    "scrolled": true
   },
   "outputs": [],
   "source": [
    "conn.commit()\n",
    "cur = conn.cursor()"
   ]
  },
  {
   "cell_type": "code",
   "execution_count": 38,
   "id": "fff2eeb4",
   "metadata": {
    "scrolled": true
   },
   "outputs": [
    {
     "data": {
      "text/plain": [
       "<sqlite3.Cursor at 0x238e47d50c0>"
      ]
     },
     "execution_count": 38,
     "metadata": {},
     "output_type": "execute_result"
    }
   ],
   "source": [
    "sql = \"INSERT INTO sonmin(title, date, url) VALUES(?,?,?)\"\n",
    "cur.executemany(sql, df_1) # 제목, 날짜, 주소 순으로 DB에 넣기"
   ]
  },
  {
   "cell_type": "code",
   "execution_count": 39,
   "id": "21429142",
   "metadata": {
    "scrolled": true
   },
   "outputs": [],
   "source": [
    "conn.commit()\n",
    "cur.close()"
   ]
  },
  {
   "cell_type": "code",
   "execution_count": 40,
   "id": "bac3c50e",
   "metadata": {
    "scrolled": true
   },
   "outputs": [],
   "source": [
    "conn = sqlite3.connect('sonmin.db')\n",
    "cur = conn.cursor()"
   ]
  },
  {
   "cell_type": "code",
   "execution_count": null,
   "id": "0bdbf74d",
   "metadata": {},
   "outputs": [],
   "source": [
    "# 최신순으로 정렬\n",
    "cur.execute(\"SELECT * FROM sonmin ORDER BY strftime('%Y-%m-%d', date)\")\n",
    "cur.fetchall()"
   ]
  },
  {
   "cell_type": "code",
   "execution_count": 42,
   "id": "995f23d4",
   "metadata": {
    "scrolled": true
   },
   "outputs": [],
   "source": [
    "conn.commit()\n",
    "cur.close()"
   ]
  }
 ],
 "metadata": {
  "kernelspec": {
   "display_name": "Python 3 (ipykernel)",
   "language": "python",
   "name": "python3"
  },
  "language_info": {
   "codemirror_mode": {
    "name": "ipython",
    "version": 3
   },
   "file_extension": ".py",
   "mimetype": "text/x-python",
   "name": "python",
   "nbconvert_exporter": "python",
   "pygments_lexer": "ipython3",
   "version": "3.11.4"
  }
 },
 "nbformat": 4,
 "nbformat_minor": 5
}
